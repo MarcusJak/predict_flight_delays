{
 "cells": [
  {
   "cell_type": "markdown",
   "metadata": {},
   "source": [
    "# Flight Predicter\n",
    "\n"
   ]
  },
  {
   "cell_type": "markdown",
   "metadata": {},
   "source": [
    "## Setup"
   ]
  },
  {
   "cell_type": "code",
   "execution_count": 46,
   "metadata": {},
   "outputs": [],
   "source": [
    "import findspark\n",
    "findspark.init()\n",
    "from pyspark.sql import SparkSession\n",
    "\n",
    "spark = SparkSession.builder \\\n",
    "    .master('local[*]') \\\n",
    "    .config('spark.ui.port', '4040') \\\n",
    "    .getOrCreate()\n"
   ]
  },
  {
   "cell_type": "code",
   "execution_count": 47,
   "metadata": {},
   "outputs": [
    {
     "name": "stdout",
     "output_type": "stream",
     "text": [
      "root\n",
      " |-- id: integer (nullable = true)\n",
      " |-- year: integer (nullable = true)\n",
      " |-- month: integer (nullable = true)\n",
      " |-- day: integer (nullable = true)\n",
      " |-- dep_time: double (nullable = true)\n",
      " |-- sched_dep_time: integer (nullable = true)\n",
      " |-- dep_delay: double (nullable = true)\n",
      " |-- arr_time: double (nullable = true)\n",
      " |-- sched_arr_time: integer (nullable = true)\n",
      " |-- arr_delay: double (nullable = true)\n",
      " |-- carrier: string (nullable = true)\n",
      " |-- flight: integer (nullable = true)\n",
      " |-- tailnum: string (nullable = true)\n",
      " |-- origin: string (nullable = true)\n",
      " |-- dest: string (nullable = true)\n",
      " |-- air_time: double (nullable = true)\n",
      " |-- distance: integer (nullable = true)\n",
      " |-- hour: integer (nullable = true)\n",
      " |-- minute: integer (nullable = true)\n",
      " |-- time_hour: string (nullable = true)\n",
      " |-- name: string (nullable = true)\n",
      "\n"
     ]
    },
    {
     "name": "stderr",
     "output_type": "stream",
     "text": [
      "[Stage 94:=======>                                                  (1 + 7) / 8]\r"
     ]
    },
    {
     "name": "stdout",
     "output_type": "stream",
     "text": [
      "+-------+-----------------+------+------------------+-----------------+------------------+------------------+------------------+------------------+-----------------+-----------------+-------+------------------+-------+------+------+------------------+------------------+------------------+------------------+-------------------+--------------------+\n",
      "|summary|               id|  year|             month|              day|          dep_time|    sched_dep_time|         dep_delay|          arr_time|   sched_arr_time|        arr_delay|carrier|            flight|tailnum|origin|  dest|          air_time|          distance|              hour|            minute|          time_hour|                name|\n",
      "+-------+-----------------+------+------------------+-----------------+------------------+------------------+------------------+------------------+-----------------+-----------------+-------+------------------+-------+------+------+------------------+------------------+------------------+------------------+-------------------+--------------------+\n",
      "|  count|           336776|336776|            336776|           336776|            328521|            336776|            328521|            328063|           336776|           327346| 336776|            336776| 334264|336776|336776|            327346|            336776|            336776|            336776|             336776|              336776|\n",
      "|   mean|         168387.5|2013.0| 6.548509988835309|15.71078699194717|1349.1099473093045|1344.2548400123524|12.639070257304708|1502.0549985825894|1536.380220086942| 6.89537675731489|   null|1971.9236198541464|   null|  null|  null|150.68646019807787|1039.9126036297123|13.180247404803193| 26.23009953203316|               null|                null|\n",
      "| stddev|97219.00146576285|   0.0|3.4144572446788914|8.768607101536851|488.28179100116057|467.33575573420916|40.210060892129945| 533.2641319903772|497.4571415143949|44.63329169019391|   null|1632.4719381393152|   null|  null|  null| 93.68830465900975| 733.2330333236786| 4.661315707848448|19.300845657412882|               null|                null|\n",
      "|    min|                0|  2013|                 1|                1|               1.0|               106|             -43.0|               1.0|                1|            -86.0|     9E|                 1| D942DN|   EWR|   ABQ|              20.0|                17|                 1|                 0|2013-01-01 05:00:00|AirTran Airways C...|\n",
      "|    max|           336775|  2013|                12|               31|            2400.0|              2359|            1301.0|            2400.0|             2359|           1272.0|     YV|              8500| N9EAMQ|   LGA|   XNA|             695.0|              4983|                23|                59|2013-12-31 23:00:00|      Virgin America|\n",
      "+-------+-----------------+------+------------------+-----------------+------------------+------------------+------------------+------------------+-----------------+-----------------+-------+------------------+-------+------+------+------------------+------------------+------------------+------------------+-------------------+--------------------+\n",
      "\n"
     ]
    },
    {
     "name": "stderr",
     "output_type": "stream",
     "text": [
      "                                                                                \r"
     ]
    }
   ],
   "source": [
    "\n",
    "df = spark.read.csv('hdfs://localhost:9000/user/flight_data/flights.csv', header=True, inferSchema=True)\n",
    "df.printSchema()\n",
    "df.describe().show()\n",
    "\n"
   ]
  },
  {
   "cell_type": "code",
   "execution_count": 48,
   "metadata": {},
   "outputs": [],
   "source": [
    "from pyspark.ml.feature import StringIndexer\n",
    "\n",
    "indexer = StringIndexer(inputCol=\"carrier\", outputCol=\"carrier_index\")\n",
    "df = indexer.fit(df).transform(df)\n"
   ]
  },
  {
   "cell_type": "code",
   "execution_count": 49,
   "metadata": {},
   "outputs": [
    {
     "name": "stdout",
     "output_type": "stream",
     "text": [
      "+---+----+-----+---+--------+--------------+---------+--------+--------------+---------+-------+------+-------+------+----+--------+--------+----+------+-------------------+--------------------+-------------+\n",
      "| id|year|month|day|dep_time|sched_dep_time|dep_delay|arr_time|sched_arr_time|arr_delay|carrier|flight|tailnum|origin|dest|air_time|distance|hour|minute|          time_hour|                name|carrier_index|\n",
      "+---+----+-----+---+--------+--------------+---------+--------+--------------+---------+-------+------+-------+------+----+--------+--------+----+------+-------------------+--------------------+-------------+\n",
      "|  0|2013|    1|  1|   517.0|           515|      2.0|   830.0|           819|     11.0|     UA|  1545| N14228|   EWR| IAH|   227.0|    1400|   5|    15|2013-01-01 05:00:00|United Air Lines ...|          0.0|\n",
      "|  1|2013|    1|  1|   533.0|           529|      4.0|   850.0|           830|     20.0|     UA|  1714| N24211|   LGA| IAH|   227.0|    1416|   5|    29|2013-01-01 05:00:00|United Air Lines ...|          0.0|\n",
      "|  2|2013|    1|  1|   542.0|           540|      2.0|   923.0|           850|     33.0|     AA|  1141| N619AA|   JFK| MIA|   160.0|    1089|   5|    40|2013-01-01 05:00:00|American Airlines...|          4.0|\n",
      "|  3|2013|    1|  1|   544.0|           545|     -1.0|  1004.0|          1022|    -18.0|     B6|   725| N804JB|   JFK| BQN|   183.0|    1576|   5|    45|2013-01-01 05:00:00|     JetBlue Airways|          1.0|\n",
      "|  4|2013|    1|  1|   554.0|           600|     -6.0|   812.0|           837|    -25.0|     DL|   461| N668DN|   LGA| ATL|   116.0|     762|   6|     0|2013-01-01 06:00:00|Delta Air Lines Inc.|          3.0|\n",
      "|  5|2013|    1|  1|   554.0|           558|     -4.0|   740.0|           728|     12.0|     UA|  1696| N39463|   EWR| ORD|   150.0|     719|   5|    58|2013-01-01 05:00:00|United Air Lines ...|          0.0|\n",
      "|  6|2013|    1|  1|   555.0|           600|     -5.0|   913.0|           854|     19.0|     B6|   507| N516JB|   EWR| FLL|   158.0|    1065|   6|     0|2013-01-01 06:00:00|     JetBlue Airways|          1.0|\n",
      "|  7|2013|    1|  1|   557.0|           600|     -3.0|   709.0|           723|    -14.0|     EV|  5708| N829AS|   LGA| IAD|    53.0|     229|   6|     0|2013-01-01 06:00:00|ExpressJet Airlin...|          2.0|\n",
      "|  8|2013|    1|  1|   557.0|           600|     -3.0|   838.0|           846|     -8.0|     B6|    79| N593JB|   JFK| MCO|   140.0|     944|   6|     0|2013-01-01 06:00:00|     JetBlue Airways|          1.0|\n",
      "|  9|2013|    1|  1|   558.0|           600|     -2.0|   753.0|           745|      8.0|     AA|   301| N3ALAA|   LGA| ORD|   138.0|     733|   6|     0|2013-01-01 06:00:00|American Airlines...|          4.0|\n",
      "| 10|2013|    1|  1|   558.0|           600|     -2.0|   849.0|           851|     -2.0|     B6|    49| N793JB|   JFK| PBI|   149.0|    1028|   6|     0|2013-01-01 06:00:00|     JetBlue Airways|          1.0|\n",
      "| 11|2013|    1|  1|   558.0|           600|     -2.0|   853.0|           856|     -3.0|     B6|    71| N657JB|   JFK| TPA|   158.0|    1005|   6|     0|2013-01-01 06:00:00|     JetBlue Airways|          1.0|\n",
      "| 12|2013|    1|  1|   558.0|           600|     -2.0|   924.0|           917|      7.0|     UA|   194| N29129|   JFK| LAX|   345.0|    2475|   6|     0|2013-01-01 06:00:00|United Air Lines ...|          0.0|\n",
      "| 13|2013|    1|  1|   558.0|           600|     -2.0|   923.0|           937|    -14.0|     UA|  1124| N53441|   EWR| SFO|   361.0|    2565|   6|     0|2013-01-01 06:00:00|United Air Lines ...|          0.0|\n",
      "| 14|2013|    1|  1|   559.0|           600|     -1.0|   941.0|           910|     31.0|     AA|   707| N3DUAA|   LGA| DFW|   257.0|    1389|   6|     0|2013-01-01 06:00:00|American Airlines...|          4.0|\n",
      "| 15|2013|    1|  1|   559.0|           559|      0.0|   702.0|           706|     -4.0|     B6|  1806| N708JB|   JFK| BOS|    44.0|     187|   5|    59|2013-01-01 05:00:00|     JetBlue Airways|          1.0|\n",
      "| 16|2013|    1|  1|   559.0|           600|     -1.0|   854.0|           902|     -8.0|     UA|  1187| N76515|   EWR| LAS|   337.0|    2227|   6|     0|2013-01-01 06:00:00|United Air Lines ...|          0.0|\n",
      "| 17|2013|    1|  1|   600.0|           600|      0.0|   851.0|           858|     -7.0|     B6|   371| N595JB|   LGA| FLL|   152.0|    1076|   6|     0|2013-01-01 06:00:00|     JetBlue Airways|          1.0|\n",
      "| 18|2013|    1|  1|   600.0|           600|      0.0|   837.0|           825|     12.0|     MQ|  4650| N542MQ|   LGA| ATL|   134.0|     762|   6|     0|2013-01-01 06:00:00|           Envoy Air|          5.0|\n",
      "| 19|2013|    1|  1|   601.0|           600|      1.0|   844.0|           850|     -6.0|     B6|   343| N644JB|   EWR| PBI|   147.0|    1023|   6|     0|2013-01-01 06:00:00|     JetBlue Airways|          1.0|\n",
      "+---+----+-----+---+--------+--------------+---------+--------+--------------+---------+-------+------+-------+------+----+--------+--------+----+------+-------------------+--------------------+-------------+\n",
      "only showing top 20 rows\n",
      "\n"
     ]
    }
   ],
   "source": [
    "df.show()"
   ]
  },
  {
   "cell_type": "markdown",
   "metadata": {},
   "source": [
    "## Preprocessing\n",
    "\n",
    "The below code block is the preprocessing of handling null values, particularly arr_delay. If any entry does not have a value for arr_delay, it will be calculated for using the other provided values such as arr_time and sched_arr_time. If there is no combination of data that can result in an arr_delay value, the entry will be dropped as an estimation would require too many calculations specific to that entry. "
   ]
  },
  {
   "cell_type": "code",
   "execution_count": 51,
   "metadata": {},
   "outputs": [
    {
     "name": "stdout",
     "output_type": "stream",
     "text": [
      "+---+----+-----+---+--------+--------------+---------+--------+--------------+---------+-------+------+-------+------+----+--------+--------+----+------+-------------------+------------------------+-------------+-------+\n",
      "|id |year|month|day|dep_time|sched_dep_time|dep_delay|arr_time|sched_arr_time|arr_delay|carrier|flight|tailnum|origin|dest|air_time|distance|hour|minute|time_hour          |name                    |carrier_index|delayed|\n",
      "+---+----+-----+---+--------+--------------+---------+--------+--------------+---------+-------+------+-------+------+----+--------+--------+----+------+-------------------+------------------------+-------------+-------+\n",
      "|0  |2013|1    |1  |517.0   |515           |2.0      |830.0   |819           |11.0     |UA     |1545  |N14228 |EWR   |IAH |227.0   |1400    |5   |15    |2013-01-01 05:00:00|United Air Lines Inc.   |0.0          |0      |\n",
      "|1  |2013|1    |1  |533.0   |529           |4.0      |850.0   |830           |20.0     |UA     |1714  |N24211 |LGA   |IAH |227.0   |1416    |5   |29    |2013-01-01 05:00:00|United Air Lines Inc.   |0.0          |1      |\n",
      "|2  |2013|1    |1  |542.0   |540           |2.0      |923.0   |850           |33.0     |AA     |1141  |N619AA |JFK   |MIA |160.0   |1089    |5   |40    |2013-01-01 05:00:00|American Airlines Inc.  |4.0          |1      |\n",
      "|3  |2013|1    |1  |544.0   |545           |-1.0     |1004.0  |1022          |-18.0    |B6     |725   |N804JB |JFK   |BQN |183.0   |1576    |5   |45    |2013-01-01 05:00:00|JetBlue Airways         |1.0          |0      |\n",
      "|4  |2013|1    |1  |554.0   |600           |-6.0     |812.0   |837           |-25.0    |DL     |461   |N668DN |LGA   |ATL |116.0   |762     |6   |0     |2013-01-01 06:00:00|Delta Air Lines Inc.    |3.0          |0      |\n",
      "|5  |2013|1    |1  |554.0   |558           |-4.0     |740.0   |728           |12.0     |UA     |1696  |N39463 |EWR   |ORD |150.0   |719     |5   |58    |2013-01-01 05:00:00|United Air Lines Inc.   |0.0          |0      |\n",
      "|6  |2013|1    |1  |555.0   |600           |-5.0     |913.0   |854           |19.0     |B6     |507   |N516JB |EWR   |FLL |158.0   |1065    |6   |0     |2013-01-01 06:00:00|JetBlue Airways         |1.0          |1      |\n",
      "|7  |2013|1    |1  |557.0   |600           |-3.0     |709.0   |723           |-14.0    |EV     |5708  |N829AS |LGA   |IAD |53.0    |229     |6   |0     |2013-01-01 06:00:00|ExpressJet Airlines Inc.|2.0          |0      |\n",
      "|8  |2013|1    |1  |557.0   |600           |-3.0     |838.0   |846           |-8.0     |B6     |79    |N593JB |JFK   |MCO |140.0   |944     |6   |0     |2013-01-01 06:00:00|JetBlue Airways         |1.0          |0      |\n",
      "|9  |2013|1    |1  |558.0   |600           |-2.0     |753.0   |745           |8.0      |AA     |301   |N3ALAA |LGA   |ORD |138.0   |733     |6   |0     |2013-01-01 06:00:00|American Airlines Inc.  |4.0          |0      |\n",
      "|10 |2013|1    |1  |558.0   |600           |-2.0     |849.0   |851           |-2.0     |B6     |49    |N793JB |JFK   |PBI |149.0   |1028    |6   |0     |2013-01-01 06:00:00|JetBlue Airways         |1.0          |0      |\n",
      "|11 |2013|1    |1  |558.0   |600           |-2.0     |853.0   |856           |-3.0     |B6     |71    |N657JB |JFK   |TPA |158.0   |1005    |6   |0     |2013-01-01 06:00:00|JetBlue Airways         |1.0          |0      |\n",
      "|12 |2013|1    |1  |558.0   |600           |-2.0     |924.0   |917           |7.0      |UA     |194   |N29129 |JFK   |LAX |345.0   |2475    |6   |0     |2013-01-01 06:00:00|United Air Lines Inc.   |0.0          |0      |\n",
      "|13 |2013|1    |1  |558.0   |600           |-2.0     |923.0   |937           |-14.0    |UA     |1124  |N53441 |EWR   |SFO |361.0   |2565    |6   |0     |2013-01-01 06:00:00|United Air Lines Inc.   |0.0          |0      |\n",
      "|14 |2013|1    |1  |559.0   |600           |-1.0     |941.0   |910           |31.0     |AA     |707   |N3DUAA |LGA   |DFW |257.0   |1389    |6   |0     |2013-01-01 06:00:00|American Airlines Inc.  |4.0          |1      |\n",
      "|15 |2013|1    |1  |559.0   |559           |0.0      |702.0   |706           |-4.0     |B6     |1806  |N708JB |JFK   |BOS |44.0    |187     |5   |59    |2013-01-01 05:00:00|JetBlue Airways         |1.0          |0      |\n",
      "|16 |2013|1    |1  |559.0   |600           |-1.0     |854.0   |902           |-8.0     |UA     |1187  |N76515 |EWR   |LAS |337.0   |2227    |6   |0     |2013-01-01 06:00:00|United Air Lines Inc.   |0.0          |0      |\n",
      "|17 |2013|1    |1  |600.0   |600           |0.0      |851.0   |858           |-7.0     |B6     |371   |N595JB |LGA   |FLL |152.0   |1076    |6   |0     |2013-01-01 06:00:00|JetBlue Airways         |1.0          |0      |\n",
      "|18 |2013|1    |1  |600.0   |600           |0.0      |837.0   |825           |12.0     |MQ     |4650  |N542MQ |LGA   |ATL |134.0   |762     |6   |0     |2013-01-01 06:00:00|Envoy Air               |5.0          |0      |\n",
      "|19 |2013|1    |1  |601.0   |600           |1.0      |844.0   |850           |-6.0     |B6     |343   |N644JB |EWR   |PBI |147.0   |1023    |6   |0     |2013-01-01 06:00:00|JetBlue Airways         |1.0          |0      |\n",
      "+---+----+-----+---+--------+--------------+---------+--------+--------------+---------+-------+------+-------+------+----+--------+--------+----+------+-------------------+------------------------+-------------+-------+\n",
      "only showing top 20 rows\n",
      "\n"
     ]
    }
   ],
   "source": [
    "from pyspark.sql.functions import col, when\n",
    "\n",
    "df_test = df.withColumn(\n",
    "    'arr_delay',\n",
    "    when(\n",
    "        col('arr_delay').isNull() & col('arr_time').isNotNull() & col('sched_arr_time').isNotNull(),\n",
    "        col('arr_time') - col('sched_arr_time')\n",
    "    ).when(\n",
    "        col('arr_delay').isNull() & col('dep_time').isNotNull() & col('air_time').isNotNull() & col('sched_arr_time').isNotNull(),\n",
    "        (\n",
    "            col('dep_time') + col('air_time') - col('sched_arr_time') +\n",
    "            when(col('day') < col('sched_arr_time'), 240).otherwise(0)\n",
    "        )\n",
    "    ).otherwise(col('arr_delay'))  \n",
    ")\n",
    "\n",
    "\n",
    "df_test = df_test.withColumn(\n",
    "    \"air_time\",\n",
    "    when(\n",
    "        col(\"air_time\").isNull() & col(\"arr_time\").isNotNull() & col(\"dep_time\").isNotNull(),\n",
    "        (col(\"arr_time\") - col(\"dep_time\")) + when(col('arr_time') < col('dep_time'), 240).otherwise(0)  \n",
    "    ).otherwise(col(\"air_time\"))\n",
    ")\n",
    "\n",
    "df_test = df_test.withColumn(\"delayed\", (df_test[\"arr_delay\"] > 15).cast(\"integer\"))\n",
    "\n",
    "\n",
    "df_test.show(truncate=False)\n"
   ]
  },
  {
   "cell_type": "code",
   "execution_count": 52,
   "metadata": {},
   "outputs": [
    {
     "name": "stdout",
     "output_type": "stream",
     "text": [
      "+---+----+-----+---+--------+--------------+---------+--------+--------------+---------+-------+------+-------+------+----+--------+--------+----+------+-------------------+------------------------+-------------+\n",
      "|id |year|month|day|dep_time|sched_dep_time|dep_delay|arr_time|sched_arr_time|arr_delay|carrier|flight|tailnum|origin|dest|air_time|distance|hour|minute|time_hour          |name                    |carrier_index|\n",
      "+---+----+-----+---+--------+--------------+---------+--------+--------------+---------+-------+------+-------+------+----+--------+--------+----+------+-------------------+------------------------+-------------+\n",
      "|733|2013|1    |1  |1952.0  |1930          |22.0     |2358.0  |2207          |null     |EV     |4333  |N11194 |EWR   |TUL |null    |1215    |19  |30    |2013-01-01 19:00:00|ExpressJet Airlines Inc.|2.0          |\n",
      "+---+----+-----+---+--------+--------------+---------+--------+--------------+---------+-------+------+-------+------+----+--------+--------+----+------+-------------------+------------------------+-------------+\n",
      "\n",
      "+---+----+-----+---+--------+--------------+---------+--------+--------------+---------+-------+------+-------+------+----+--------+--------+----+------+-------------------+------------------------+-------------+-------+\n",
      "|id |year|month|day|dep_time|sched_dep_time|dep_delay|arr_time|sched_arr_time|arr_delay|carrier|flight|tailnum|origin|dest|air_time|distance|hour|minute|time_hour          |name                    |carrier_index|delayed|\n",
      "+---+----+-----+---+--------+--------------+---------+--------+--------------+---------+-------+------+-------+------+----+--------+--------+----+------+-------------------+------------------------+-------------+-------+\n",
      "|733|2013|1    |1  |1952.0  |1930          |22.0     |2358.0  |2207          |151.0    |EV     |4333  |N11194 |EWR   |TUL |406.0   |1215    |19  |30    |2013-01-01 19:00:00|ExpressJet Airlines Inc.|2.0          |1      |\n",
      "+---+----+-----+---+--------+--------------+---------+--------+--------------+---------+-------+------+-------+------+----+--------+--------+----+------+-------------------+------------------------+-------------+-------+\n",
      "\n"
     ]
    }
   ],
   "source": [
    "row_with_id_733_fixed = df_test.filter(col(\"id\") == 733)\n",
    "row_with_id_733 = df.filter(col(\"id\") == 733)\n",
    "\n",
    "row_with_id_733.show(truncate=False)\n",
    "\n",
    "row_with_id_733_fixed.show(truncate=False)\n"
   ]
  },
  {
   "cell_type": "code",
   "execution_count": 53,
   "metadata": {},
   "outputs": [],
   "source": [
    "columns_to_check = [ 'arr_time', 'arr_delay']\n",
    "\n",
    "# Drop rows with null values in the specified columns\n",
    "data_preprocessed = df_test.dropna(subset=columns_to_check)\n",
    "\n"
   ]
  },
  {
   "cell_type": "code",
   "execution_count": 56,
   "metadata": {},
   "outputs": [
    {
     "name": "stderr",
     "output_type": "stream",
     "text": [
      "                                                                                \r"
     ]
    },
    {
     "name": "stdout",
     "output_type": "stream",
     "text": [
      "+---+----+-----+---+--------+--------------+---------+--------+--------------+---------+-------+------+-------+------+----+--------+--------+----+------+---------+----+-------------+-------+\n",
      "|id |year|month|day|dep_time|sched_dep_time|dep_delay|arr_time|sched_arr_time|arr_delay|carrier|flight|tailnum|origin|dest|air_time|distance|hour|minute|time_hour|name|carrier_index|delayed|\n",
      "+---+----+-----+---+--------+--------------+---------+--------+--------------+---------+-------+------+-------+------+----+--------+--------+----+------+---------+----+-------------+-------+\n",
      "+---+----+-----+---+--------+--------------+---------+--------+--------------+---------+-------+------+-------+------+----+--------+--------+----+------+---------+----+-------------+-------+\n",
      "\n"
     ]
    },
    {
     "name": "stderr",
     "output_type": "stream",
     "text": [
      "                                                                                \r"
     ]
    }
   ],
   "source": [
    "from pyspark.sql.functions import col, isnan\n",
    "from functools import reduce\n",
    "\n",
    "missing_rows = data_preprocessed.filter(\n",
    "    reduce(lambda a, b: a | b, [col(c).isNull() | isnan(c) for c in df.columns])\n",
    ")\n",
    "\n",
    "# Show all rows with missing values\n",
    "missing_rows.show(truncate=False)\n"
   ]
  },
  {
   "cell_type": "code",
   "execution_count": 57,
   "metadata": {},
   "outputs": [
    {
     "name": "stdout",
     "output_type": "stream",
     "text": [
      "+---+----+-----+---+--------+--------------+---------+--------+--------------+---------+-------+------+-------+------+----+--------+--------+----+------+-------------------+--------------------+-------------+-------+\n",
      "| id|year|month|day|dep_time|sched_dep_time|dep_delay|arr_time|sched_arr_time|arr_delay|carrier|flight|tailnum|origin|dest|air_time|distance|hour|minute|          time_hour|                name|carrier_index|delayed|\n",
      "+---+----+-----+---+--------+--------------+---------+--------+--------------+---------+-------+------+-------+------+----+--------+--------+----+------+-------------------+--------------------+-------------+-------+\n",
      "|  0|2013|    1|  1|   517.0|           515|      2.0|   830.0|           819|     11.0|     UA|  1545| N14228|   EWR| IAH|   227.0|    1400|   5|    15|2013-01-01 05:00:00|United Air Lines ...|          0.0|      0|\n",
      "|  1|2013|    1|  1|   533.0|           529|      4.0|   850.0|           830|     20.0|     UA|  1714| N24211|   LGA| IAH|   227.0|    1416|   5|    29|2013-01-01 05:00:00|United Air Lines ...|          0.0|      1|\n",
      "|  2|2013|    1|  1|   542.0|           540|      2.0|   923.0|           850|     33.0|     AA|  1141| N619AA|   JFK| MIA|   160.0|    1089|   5|    40|2013-01-01 05:00:00|American Airlines...|          4.0|      1|\n",
      "|  3|2013|    1|  1|   544.0|           545|     -1.0|  1004.0|          1022|    -18.0|     B6|   725| N804JB|   JFK| BQN|   183.0|    1576|   5|    45|2013-01-01 05:00:00|     JetBlue Airways|          1.0|      0|\n",
      "|  4|2013|    1|  1|   554.0|           600|     -6.0|   812.0|           837|    -25.0|     DL|   461| N668DN|   LGA| ATL|   116.0|     762|   6|     0|2013-01-01 06:00:00|Delta Air Lines Inc.|          3.0|      0|\n",
      "+---+----+-----+---+--------+--------------+---------+--------+--------------+---------+-------+------+-------+------+----+--------+--------+----+------+-------------------+--------------------+-------------+-------+\n",
      "only showing top 5 rows\n",
      "\n"
     ]
    }
   ],
   "source": [
    "data_preprocessed.show(5)"
   ]
  },
  {
   "cell_type": "markdown",
   "metadata": {},
   "source": [
    "## Data Visualisation"
   ]
  },
  {
   "cell_type": "code",
   "execution_count": 66,
   "metadata": {},
   "outputs": [],
   "source": [
    "from pyspark.sql import functions as F\n",
    "import matplotlib.pyplot as plt\n",
    "\n",
    "df_categorized = data_preprocessed.withColumn(\n",
    "    \"delay_category\",\n",
    "    when(col(\"arr_delay\") <= 0, \"On time\")\n",
    "    .when((col(\"arr_delay\") > 0) & (col(\"arr_delay\") <= 15), \"Short delay\")\n",
    "    .when((col(\"arr_delay\") > 15) & (col(\"arr_delay\") <= 60), \"Moderate delay\")\n",
    "    .when(col(\"arr_delay\") > 60, \"Long delay\")\n",
    "    .otherwise(\"Unknown\")  \n",
    ")\n",
    "\n",
    "\n"
   ]
  },
  {
   "cell_type": "code",
   "execution_count": 67,
   "metadata": {},
   "outputs": [
    {
     "data": {
      "image/png": "[encoded data removed]",
      "text/plain": [
       "<Figure size 800x500 with 1 Axes>"
      ]
     },
     "metadata": {},
     "output_type": "display_data"
    }
   ],
   "source": [
    "delay_distribution = df_categorized.groupBy(\"delay_category\").count().collect()\n",
    "categories = [row[\"delay_category\"] for row in delay_distribution]\n",
    "counts = [row[\"count\"] for row in delay_distribution]\n",
    "\n",
    "plt.figure(figsize=(8, 5))\n",
    "plt.bar(categories, counts, color='skyblue')\n",
    "plt.title(\"Flight Delay Distribution\")\n",
    "plt.xlabel(\"Delay Category\")\n",
    "plt.ylabel(\"Number of Flights\")\n",
    "plt.xticks(rotation=45)\n",
    "plt.tight_layout()\n",
    "\n",
    "plt.show()"
   ]
  },
  {
   "cell_type": "markdown",
   "metadata": {},
   "source": [
    "## modellering och träning"
   ]
  },
  {
   "cell_type": "code",
   "execution_count": null,
   "metadata": {},
   "outputs": [],
   "source": [
    "#NOT DONE\n",
    "train_data, validation_data, test_data = data_preprocessed.randomSplit([0.3, 0.4, 0.3], seed=42)\n"
   ]
  }
 ],
 "metadata": {
  "kernelspec": {
   "display_name": ".venv",
   "language": "python",
   "name": "python3"
  },
  "language_info": {
   "codemirror_mode": {
    "name": "ipython",
    "version": 3
   },
   "file_extension": ".py",
   "mimetype": "text/x-python",
   "name": "python",
   "nbconvert_exporter": "python",
   "pygments_lexer": "ipython3",
   "version": "3.12.3"
  }
 },
 "nbformat": 4,
 "nbformat_minor": 2
}
